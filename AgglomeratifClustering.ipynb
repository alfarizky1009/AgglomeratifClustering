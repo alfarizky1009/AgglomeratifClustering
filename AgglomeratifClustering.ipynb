{
  "nbformat": 4,
  "nbformat_minor": 0,
  "metadata": {
    "colab": {
      "name": "AgglomeratifClustering.ipynb",
      "provenance": [],
      "authorship_tag": "ABX9TyOoX+pM5kXxwkYA5FWD1pGf",
      "include_colab_link": true
    },
    "kernelspec": {
      "name": "python3",
      "display_name": "Python 3"
    }
  },
  "cells": [
    {
      "cell_type": "markdown",
      "metadata": {
        "id": "view-in-github",
        "colab_type": "text"
      },
      "source": [
        "<a href=\"https://colab.research.google.com/github/alfarizky1009/AgglomeratifClustering/blob/master/AgglomeratifClustering.ipynb\" target=\"_parent\"><img src=\"https://colab.research.google.com/assets/colab-badge.svg\" alt=\"Open In Colab\"/></a>"
      ]
    },
    {
      "cell_type": "code",
      "metadata": {
        "id": "M6rLGWBIGSJV",
        "colab_type": "code",
        "colab": {}
      },
      "source": [
        "%matplotlib inline\n",
        "import numpy as np\n",
        "import matplotlib.pyplot as plt\n",
        "import pandas as pd"
      ],
      "execution_count": 0,
      "outputs": []
    },
    {
      "cell_type": "code",
      "metadata": {
        "id": "z40awYayGZlj",
        "colab_type": "code",
        "colab": {}
      },
      "source": [
        "df = pd.DataFrame({\n",
        "    'x' : [12, 20, 28, 26, 29, 33, 24, 45, 49, 52, 51, 52, 55, 53, 24, 61, 64, 69, 72],\n",
        "    'y' : [39, 36, 30, 8, 54, 46, 55, 5, 13, 70, 66, 63, 58, 62, 14, 85, 19, 7, 24]\n",
        "})"
      ],
      "execution_count": 0,
      "outputs": []
    },
    {
      "cell_type": "code",
      "metadata": {
        "id": "jg3Y7zNeUBLw",
        "colab_type": "code",
        "colab": {
          "base_uri": "https://localhost:8080/",
          "height": 357
        },
        "outputId": "49c75fc7-dc94-4ffe-a77d-1b1105d962b7"
      },
      "source": [
        "print(df)"
      ],
      "execution_count": 75,
      "outputs": [
        {
          "output_type": "stream",
          "text": [
            "     x   y\n",
            "0   12  39\n",
            "1   20  36\n",
            "2   28  30\n",
            "3   26   8\n",
            "4   29  54\n",
            "5   33  46\n",
            "6   24  55\n",
            "7   45   5\n",
            "8   49  13\n",
            "9   52  70\n",
            "10  51  66\n",
            "11  52  63\n",
            "12  55  58\n",
            "13  53  62\n",
            "14  24  14\n",
            "15  61  85\n",
            "16  64  19\n",
            "17  69   7\n",
            "18  72  24\n"
          ],
          "name": "stdout"
        }
      ]
    },
    {
      "cell_type": "code",
      "metadata": {
        "id": "iUo4SrxeGaqF",
        "colab_type": "code",
        "colab": {}
      },
      "source": [
        "import scipy.cluster.hierarchy as sch\n",
        "from sklearn.cluster import AgglomerativeClustering"
      ],
      "execution_count": 0,
      "outputs": []
    },
    {
      "cell_type": "code",
      "metadata": {
        "id": "b8jw3V9QRKoA",
        "colab_type": "code",
        "colab": {
          "base_uri": "https://localhost:8080/",
          "height": 268
        },
        "outputId": "e69db2d5-b2ff-4568-c197-959d3ba97874"
      },
      "source": [
        "dendrogram_x = sch.dendrogram(sch.linkage(df, method='ward'))"
      ],
      "execution_count": 77,
      "outputs": [
        {
          "output_type": "display_data",
          "data": {
            "image/png": "[encoded data removed]",
            "text/plain": [
              "<Figure size 432x288 with 1 Axes>"
            ]
          },
          "metadata": {
            "tags": []
          }
        }
      ]
    },
    {
      "cell_type": "code",
      "metadata": {
        "id": "sndgF0nERPYD",
        "colab_type": "code",
        "colab": {
          "base_uri": "https://localhost:8080/",
          "height": 282
        },
        "outputId": "aafabc99-c297-4ef0-a398-88959da76455"
      },
      "source": [
        "df = np.array(df)\n",
        "plt.scatter(df[:, 0], df[:, 1], s=100)"
      ],
      "execution_count": 78,
      "outputs": [
        {
          "output_type": "execute_result",
          "data": {
            "text/plain": [
              "<matplotlib.collections.PathCollection at 0x7f419cdc4128>"
            ]
          },
          "metadata": {
            "tags": []
          },
          "execution_count": 78
        },
        {
          "output_type": "display_data",
          "data": {
            "image/png": "[encoded data removed]",
            "text/plain": [
              "<Figure size 432x288 with 1 Axes>"
            ]
          },
          "metadata": {
            "tags": []
          }
        }
      ]
    },
    {
      "cell_type": "code",
      "metadata": {
        "id": "456e8tESSaQw",
        "colab_type": "code",
        "colab": {}
      },
      "source": [
        "hc = AgglomerativeClustering(n_clusters=3, affinity= 'euclidean', linkage='ward')"
      ],
      "execution_count": 0,
      "outputs": []
    },
    {
      "cell_type": "code",
      "metadata": {
        "id": "iquNzw3TVyok",
        "colab_type": "code",
        "colab": {}
      },
      "source": [
        "y_hc = hc.fit_predict(df)"
      ],
      "execution_count": 0,
      "outputs": []
    },
    {
      "cell_type": "code",
      "metadata": {
        "id": "RZ_2mqCVV8f9",
        "colab_type": "code",
        "colab": {
          "base_uri": "https://localhost:8080/",
          "height": 282
        },
        "outputId": "fe3c06bd-47ef-44ec-ee89-f850a08f258f"
      },
      "source": [
        "plt.scatter(df[y_hc == 0, 0], df[y_hc == 0,1],s = 100, c='red', label = 'Cluster 1')\n",
        "plt.scatter(df[y_hc == 1, 0], df[y_hc == 1,1],s = 100, c='blue', label = 'Cluster 2')\n",
        "plt.scatter(df[y_hc == 1, 1], df[y_hc == 1,1],s = 100, c='green', label = 'Cluster 3')"
      ],
      "execution_count": 81,
      "outputs": [
        {
          "output_type": "execute_result",
          "data": {
            "text/plain": [
              "<matplotlib.collections.PathCollection at 0x7f419cce6e10>"
            ]
          },
          "metadata": {
            "tags": []
          },
          "execution_count": 81
        },
        {
          "output_type": "display_data",
          "data": {
            "image/png": "[encoded data removed]",
            "text/plain": [
              "<Figure size 432x288 with 1 Axes>"
            ]
          },
          "metadata": {
            "tags": []
          }
        }
      ]
    },
    {
      "cell_type": "code",
      "metadata": {
        "id": "9R02uwhwWE4A",
        "colab_type": "code",
        "colab": {}
      },
      "source": [
        ""
      ],
      "execution_count": 0,
      "outputs": []
    }
  ]
}